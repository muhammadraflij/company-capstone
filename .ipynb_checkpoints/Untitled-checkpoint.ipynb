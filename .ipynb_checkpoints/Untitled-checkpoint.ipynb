{
 "cells": [
  {
   "cell_type": "code",
   "execution_count": 1,
   "id": "f0f94c40",
   "metadata": {},
   "outputs": [
    {
     "name": "stdout",
     "output_type": "stream",
     "text": [
      " * Serving Flask app \"__main__\" (lazy loading)\n",
      " * Environment: production\n",
      "\u001b[31m   WARNING: This is a development server. Do not use it in a production deployment.\u001b[0m\n",
      "\u001b[2m   Use a production WSGI server instead.\u001b[0m\n",
      " * Debug mode: off\n"
     ]
    },
    {
     "name": "stderr",
     "output_type": "stream",
     "text": [
      " * Running on http://127.0.0.1:5000/ (Press CTRL+C to quit)\n"
     ]
    },
    {
     "name": "stdout",
     "output_type": "stream",
     "text": [
      "1/1 [==============================] - 2s 2s/step\n"
     ]
    },
    {
     "name": "stderr",
     "output_type": "stream",
     "text": [
      "127.0.0.1 - - [05/Jun/2022 21:39:45] \"GET /by_city?city=lampung&key=8ad9eca88a2e4330a022ad816a7d9886 HTTP/1.1\" 200 -\n",
      "[2022-06-05 21:39:52,132] ERROR in app: Exception on /by_location [GET]\n",
      "Traceback (most recent call last):\n",
      "  File \"C:\\Users\\User\\anaconda3\\lib\\site-packages\\flask\\app.py\", line 2447, in wsgi_app\n",
      "    response = self.full_dispatch_request()\n",
      "  File \"C:\\Users\\User\\anaconda3\\lib\\site-packages\\flask\\app.py\", line 1952, in full_dispatch_request\n",
      "    rv = self.handle_user_exception(e)\n",
      "  File \"C:\\Users\\User\\anaconda3\\lib\\site-packages\\flask\\app.py\", line 1821, in handle_user_exception\n",
      "    reraise(exc_type, exc_value, tb)\n",
      "  File \"C:\\Users\\User\\anaconda3\\lib\\site-packages\\flask\\_compat.py\", line 39, in reraise\n",
      "    raise value\n",
      "  File \"C:\\Users\\User\\anaconda3\\lib\\site-packages\\flask\\app.py\", line 1950, in full_dispatch_request\n",
      "    rv = self.dispatch_request()\n",
      "  File \"C:\\Users\\User\\anaconda3\\lib\\site-packages\\flask\\app.py\", line 1936, in dispatch_request\n",
      "    return self.view_functions[rule.endpoint](**req.view_args)\n",
      "  File \"C:\\Users\\User\\AppData\\Local\\Temp/ipykernel_11992/1919607670.py\", line 60, in by_location\n",
      "    a = data_by_location(lat, lon, weatherbit_key)\n",
      "  File \"C:\\Users\\User\\Documents\\Rafli\\Bangkit2022\\Company Project\\github\\company-capstone\\colect.py\", line 62, in data_by_location\n",
      "    df = pd.read_json(r.text)\n",
      "  File \"C:\\Users\\User\\anaconda3\\lib\\site-packages\\pandas\\util\\_decorators.py\", line 207, in wrapper\n",
      "    return func(*args, **kwargs)\n",
      "  File \"C:\\Users\\User\\anaconda3\\lib\\site-packages\\pandas\\util\\_decorators.py\", line 311, in wrapper\n",
      "    return func(*args, **kwargs)\n",
      "  File \"C:\\Users\\User\\anaconda3\\lib\\site-packages\\pandas\\io\\json\\_json.py\", line 614, in read_json\n",
      "    return json_reader.read()\n",
      "  File \"C:\\Users\\User\\anaconda3\\lib\\site-packages\\pandas\\io\\json\\_json.py\", line 748, in read\n",
      "    obj = self._get_object_parser(self.data)\n",
      "  File \"C:\\Users\\User\\anaconda3\\lib\\site-packages\\pandas\\io\\json\\_json.py\", line 770, in _get_object_parser\n",
      "    obj = FrameParser(json, **kwargs).parse()\n",
      "  File \"C:\\Users\\User\\anaconda3\\lib\\site-packages\\pandas\\io\\json\\_json.py\", line 885, in parse\n",
      "    self._parse_no_numpy()\n",
      "  File \"C:\\Users\\User\\anaconda3\\lib\\site-packages\\pandas\\io\\json\\_json.py\", line 1139, in _parse_no_numpy\n",
      "    self.obj = DataFrame(\n",
      "  File \"C:\\Users\\User\\anaconda3\\lib\\site-packages\\pandas\\core\\frame.py\", line 614, in __init__\n",
      "    mgr = dict_to_mgr(data, index, columns, dtype=dtype, copy=copy, typ=manager)\n",
      "  File \"C:\\Users\\User\\anaconda3\\lib\\site-packages\\pandas\\core\\internals\\construction.py\", line 464, in dict_to_mgr\n",
      "    return arrays_to_mgr(\n",
      "  File \"C:\\Users\\User\\anaconda3\\lib\\site-packages\\pandas\\core\\internals\\construction.py\", line 119, in arrays_to_mgr\n",
      "    index = _extract_index(arrays)\n",
      "  File \"C:\\Users\\User\\anaconda3\\lib\\site-packages\\pandas\\core\\internals\\construction.py\", line 625, in _extract_index\n",
      "    raise ValueError(\"If using all scalar values, you must pass an index\")\n",
      "ValueError: If using all scalar values, you must pass an index\n",
      "127.0.0.1 - - [05/Jun/2022 21:39:52] \"GET /by_location?lat=120&lon=-35&key=8ad9eca88a2e4330a022ad816a7d9886 HTTP/1.1\" 500 -\n"
     ]
    },
    {
     "name": "stdout",
     "output_type": "stream",
     "text": [
      "1/1 [==============================] - 0s 62ms/step\n"
     ]
    },
    {
     "name": "stderr",
     "output_type": "stream",
     "text": [
      "127.0.0.1 - - [05/Jun/2022 21:40:06] \"GET /by_location?lat=78&lon=-35&key=8ad9eca88a2e4330a022ad816a7d9886 HTTP/1.1\" 200 -\n"
     ]
    },
    {
     "name": "stdout",
     "output_type": "stream",
     "text": [
      "1/1 [==============================] - 0s 52ms/step\n"
     ]
    },
    {
     "name": "stderr",
     "output_type": "stream",
     "text": [
      "127.0.0.1 - - [05/Jun/2022 21:40:12] \"GET /by_location?lat=89&lon=-35&key=8ad9eca88a2e4330a022ad816a7d9886 HTTP/1.1\" 200 -\n"
     ]
    },
    {
     "name": "stdout",
     "output_type": "stream",
     "text": [
      "1/1 [==============================] - 0s 57ms/step\n"
     ]
    },
    {
     "name": "stderr",
     "output_type": "stream",
     "text": [
      "127.0.0.1 - - [05/Jun/2022 21:40:18] \"GET /by_location?lat=35&lon=-35&key=8ad9eca88a2e4330a022ad816a7d9886 HTTP/1.1\" 200 -\n"
     ]
    },
    {
     "name": "stdout",
     "output_type": "stream",
     "text": [
      "1/1 [==============================] - 0s 95ms/step\n"
     ]
    },
    {
     "name": "stderr",
     "output_type": "stream",
     "text": [
      "127.0.0.1 - - [05/Jun/2022 21:40:22] \"GET /by_location?lat=35&lon=-35&key=8ad9eca88a2e4330a022ad816a7d9886 HTTP/1.1\" 200 -\n"
     ]
    },
    {
     "name": "stdout",
     "output_type": "stream",
     "text": [
      "1/1 [==============================] - 0s 54ms/step\n"
     ]
    },
    {
     "name": "stderr",
     "output_type": "stream",
     "text": [
      "127.0.0.1 - - [05/Jun/2022 21:40:27] \"GET /by_location?lat=35&lon=-30&key=8ad9eca88a2e4330a022ad816a7d9886 HTTP/1.1\" 200 -\n",
      "127.0.0.1 - - [05/Jun/2022 21:41:00] \"GET /current?key=8ad9eca88a2e4330a022ad816a7d9886 HTTP/1.1\" 200 -\n"
     ]
    }
   ],
   "source": [
    "from flask import Flask, request, jsonify\n",
    "from tensorflow.keras.models import load_model\n",
    "from sklearn.preprocessing import MinMaxScaler, StandardScaler\n",
    "from colect import data_by_city, data_by_location\n",
    "from list_to_dict import list_to_dict, list_to_dict_prov\n",
    "from current_aqi import current_aqi_prov\n",
    "\n",
    "app = Flask(__name__)\n",
    "  \n",
    "# load model\n",
    "model = load_model(\"Model/lstm_6_3_e50/my_model.h5\")\n",
    "\n",
    "@app.route(\"/\")\n",
    "def index():\n",
    "  return \"Welcome to Airmonitor Forecast APIs\"\n",
    "\n",
    "# /by_city?city=Jakarta&key=8ad9eca88a2e4330a022ad816a7d9886\n",
    "@app.route(\"/by_city\")\n",
    "def by_city():\n",
    "  kota = request.args.get('city', default = \"Jakarta\", type = str)\n",
    "  weatherbit_key = request.args.get('key', default = \"8ad9eca88a2e4330a022ad816a7d9886\", type = str)\n",
    "  # collect data\n",
    "  a = data_by_city(kota, weatherbit_key)\n",
    "\n",
    "  # scaling and reshape\n",
    "  scaler = MinMaxScaler()\n",
    "  data = scaler.fit_transform(a)\n",
    "  data = data.reshape(1,6,7)\n",
    "\n",
    "  # predictions\n",
    "  predictions = model.predict(data)\n",
    "  predictions = predictions.reshape(3,7)\n",
    "  predictions = scaler.inverse_transform(predictions)\n",
    "  predictions = predictions.tolist()\n",
    "  predictions = list_to_dict(predictions)\n",
    "  \n",
    "  # history last 3 hour\n",
    "  history = a[:3]\n",
    "  history = history.values.tolist()\n",
    "  history = list_to_dict(history)\n",
    "\n",
    "  # merge prediction and history\n",
    "  data = ({\n",
    "      \"data\": ({\n",
    "          \"forecast\": predictions,\n",
    "          \"history\": history\n",
    "      })\n",
    "  })\n",
    "\n",
    "  return data\n",
    "\n",
    "# /by_location?lat=35&lon=-78&key=8ad9eca88a2e4330a022ad816a7d9886\n",
    "@app.route(\"/by_location\")\n",
    "def by_location():\n",
    "  lat = request.args.get('lat', default = 35, type = float)\n",
    "  lon = request.args.get('lon', default = -78, type = float)\n",
    "  weatherbit_key = request.args.get('key', default = \"8ad9eca88a2e4330a022ad816a7d9886\", type = str)\n",
    "\n",
    "  # collect data\n",
    "  a = data_by_location(lat, lon, weatherbit_key)\n",
    "\n",
    "  # scaling and reshape\n",
    "  scaler = MinMaxScaler()\n",
    "  data = scaler.fit_transform(a)\n",
    "  data = data.reshape(1,6,7)\n",
    "\n",
    "  # predictions\n",
    "  predictions = model.predict(data)\n",
    "  predictions = predictions.reshape(3,7)\n",
    "  predictions = scaler.inverse_transform(predictions)\n",
    "  predictions = predictions.tolist()\n",
    "  predictions = list_to_dict(predictions)\n",
    "  \n",
    "  # history last 3 hour\n",
    "  history = a[:3]\n",
    "  history = history.values.tolist()\n",
    "  history = list_to_dict(history)\n",
    "  \n",
    "  # merge prediction and history\n",
    "  data = ({\n",
    "      \"data\": ({\n",
    "          \"forecast\": predictions,\n",
    "          \"history\": history\n",
    "      })\n",
    "  })\n",
    "\n",
    "  return data\n",
    "\n",
    "# /current?key=8ad9eca88a2e4330a022ad816a7d9886\n",
    "@app.route(\"/current\")\n",
    "def current():\n",
    "  weatherbit_key = request.args.get('key', default = \"8ad9eca88a2e4330a022ad816a7d9886\", type = str)\n",
    "\n",
    "  data = current_aqi_prov(weatherbit_key)\n",
    "  data = list_to_dict_prov(data)\n",
    "  \n",
    "  data = ({\n",
    "      \"data\": ({\n",
    "          \"current\": data\n",
    "      })\n",
    "  })\n",
    "  \n",
    "  return data\n",
    "\n",
    "if __name__ == \"__main__\":\n",
    "    app.run(host=\"127.0.0.1\", port=5000)\n"
   ]
  },
  {
   "cell_type": "code",
   "execution_count": null,
   "id": "bfa6a6e4",
   "metadata": {},
   "outputs": [],
   "source": []
  }
 ],
 "metadata": {
  "kernelspec": {
   "display_name": "Python 3 (ipykernel)",
   "language": "python",
   "name": "python3"
  },
  "language_info": {
   "codemirror_mode": {
    "name": "ipython",
    "version": 3
   },
   "file_extension": ".py",
   "mimetype": "text/x-python",
   "name": "python",
   "nbconvert_exporter": "python",
   "pygments_lexer": "ipython3",
   "version": "3.9.7"
  }
 },
 "nbformat": 4,
 "nbformat_minor": 5
}
